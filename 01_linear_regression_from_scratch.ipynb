{
  "nbformat": 4,
  "nbformat_minor": 0,
  "metadata": {
    "colab": {
      "name": "01-linear-regression-from-scratch.ipynb",
      "provenance": [],
      "collapsed_sections": [],
      "authorship_tag": "ABX9TyO8Pw2hxyM8HV02DsjC7rkM",
      "include_colab_link": true
    },
    "kernelspec": {
      "name": "python3",
      "display_name": "Python 3"
    }
  },
  "cells": [
    {
      "cell_type": "markdown",
      "metadata": {
        "id": "view-in-github",
        "colab_type": "text"
      },
      "source": [
        "<a href=\"https://colab.research.google.com/github/mohammedadamb/deep-learning-with-pytorch/blob/master/01_linear_regression_from_scratch.ipynb\" target=\"_parent\"><img src=\"https://colab.research.google.com/assets/colab-badge.svg\" alt=\"Open In Colab\"/></a>"
      ]
    },
    {
      "cell_type": "code",
      "metadata": {
        "id": "sFE3QB99H4d5",
        "colab_type": "code",
        "colab": {}
      },
      "source": [
        "import numpy as np\n",
        "import torch"
      ],
      "execution_count": 0,
      "outputs": []
    },
    {
      "cell_type": "code",
      "metadata": {
        "id": "6TLjSij4H9w_",
        "colab_type": "code",
        "colab": {}
      },
      "source": [
        "inputs = np.array([[73, 67, 43], \n",
        "                   [91, 88, 64], \n",
        "                   [87, 134, 58], \n",
        "                   [102, 43, 37], \n",
        "                   [69, 96, 70]], dtype='float32')\n",
        "\n",
        "targets = np.array([[56, 70], \n",
        "                    [81, 101], \n",
        "                    [119, 133], \n",
        "                    [22, 37], \n",
        "                    [103, 119]], dtype='float32')\n",
        "\n",
        "targets"
      ],
      "execution_count": 0,
      "outputs": []
    },
    {
      "cell_type": "code",
      "metadata": {
        "id": "s7m-DaJyIlof",
        "colab_type": "code",
        "colab": {}
      },
      "source": [
        "inputs = torch.from_numpy(inputs)\n",
        "targets = torch.from_numpy(targets)\n",
        "inputs, targets"
      ],
      "execution_count": 0,
      "outputs": []
    },
    {
      "cell_type": "code",
      "metadata": {
        "id": "i4MCDrLsJDtz",
        "colab_type": "code",
        "colab": {}
      },
      "source": [
        "w = torch.randn(2,3, requires_grad=True, dtype=torch.float32)\n",
        "b = torch.randn(2, requires_grad=True, dtype=torch.float32)\n",
        "w,b"
      ],
      "execution_count": 0,
      "outputs": []
    },
    {
      "cell_type": "code",
      "metadata": {
        "id": "kZNYKE8QRNOo",
        "colab_type": "code",
        "colab": {}
      },
      "source": [
        "#linear regression model definition\n",
        "def model(X,w,b):\n",
        "  # print(X.dtype, w.dtype, b.dtype)\n",
        "  return X @ w.t() + b\n"
      ],
      "execution_count": 0,
      "outputs": []
    },
    {
      "cell_type": "code",
      "metadata": {
        "id": "gqPh7kTIRsVZ",
        "colab_type": "code",
        "colab": {}
      },
      "source": [
        "def mse(preds, targets):\n",
        "  error = preds - targets\n",
        "  return torch.sqrt(torch.sum(error * error)) / error.numel()"
      ],
      "execution_count": 0,
      "outputs": []
    },
    {
      "cell_type": "code",
      "metadata": {
        "id": "8551ybCJSZVN",
        "colab_type": "code",
        "colab": {}
      },
      "source": [
        "#testing the model and loss function\n",
        "print(b)\n",
        "preds = model(inputs, w, b)\n",
        "loss = mse(preds, targets)\n",
        "print(targets)\n",
        "print(preds)\n",
        "print(loss)"
      ],
      "execution_count": 0,
      "outputs": []
    },
    {
      "cell_type": "code",
      "metadata": {
        "id": "5TZ9H1dyS02d",
        "colab_type": "code",
        "colab": {}
      },
      "source": [
        "# gradient descent training algorithm\n",
        "def fit(X, w, b, targets, epocs):\n",
        "  learining_rate = []\n",
        "  for i in range(epocs):\n",
        "    preds = model(X, w, b)\n",
        "    loss = mse(preds, targets)\n",
        "    learining_rate.append(loss)\n",
        "    print(\"step %d loss :\" % i, loss)\n",
        "    loss.backward()\n",
        "\n",
        "    with torch.no_grad() :\n",
        "      w -= w.grad * 1e-5\n",
        "      b -= b.grad * 1e-5\n",
        "      w.grad.zero_()\n",
        "      b.grad.zero_()\n",
        "    \n",
        "  return w, b , learining_rate"
      ],
      "execution_count": 0,
      "outputs": []
    },
    {
      "cell_type": "code",
      "metadata": {
        "id": "P3gDH6pgWA57",
        "colab_type": "code",
        "colab": {}
      },
      "source": [
        "preds = model(inputs, w, b)\n",
        "w,b,losses = fit(inputs, w,b, targets, 100000)\n",
        "preds_2 = model(inputs, w,b)\n",
        "print(\"first:\", preds)\n",
        "print(\"second:\", preds_2)\n",
        "print(\"targets:\", targets)"
      ],
      "execution_count": 0,
      "outputs": []
    },
    {
      "cell_type": "code",
      "metadata": {
        "id": "ehW4iqcxYKGq",
        "colab_type": "code",
        "colab": {}
      },
      "source": [
        ""
      ],
      "execution_count": 0,
      "outputs": []
    }
  ]
}