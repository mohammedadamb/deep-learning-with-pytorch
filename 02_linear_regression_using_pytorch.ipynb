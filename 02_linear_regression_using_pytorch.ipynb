{
  "nbformat": 4,
  "nbformat_minor": 0,
  "metadata": {
    "colab": {
      "name": "02-linear-regression-using-pytorch.ipynb",
      "provenance": [],
      "collapsed_sections": [],
      "authorship_tag": "ABX9TyMlKHsIntrGq2GW64SrMl7m",
      "include_colab_link": true
    },
    "kernelspec": {
      "name": "python3",
      "display_name": "Python 3"
    }
  },
  "cells": [
    {
      "cell_type": "markdown",
      "metadata": {
        "id": "view-in-github",
        "colab_type": "text"
      },
      "source": [
        "<a href=\"https://colab.research.google.com/github/mohammedadamb/deep-learning-with-pytorch/blob/master/02_linear_regression_using_pytorch.ipynb\" target=\"_parent\"><img src=\"https://colab.research.google.com/assets/colab-badge.svg\" alt=\"Open In Colab\"/></a>"
      ]
    },
    {
      "cell_type": "code",
      "metadata": {
        "id": "UZ7zoNPEgptW",
        "colab_type": "code",
        "colab": {}
      },
      "source": [
        "import torch\n",
        "import torch.nn as nn\n",
        "from torch.utils.data import TensorDataset, DataLoader\n",
        "import torch.nn.functional as F\n",
        "import numpy as np "
      ],
      "execution_count": 0,
      "outputs": []
    },
    {
      "cell_type": "code",
      "metadata": {
        "id": "EZNWMu_7gu6c",
        "colab_type": "code",
        "colab": {}
      },
      "source": [
        "inputs = np.array([[73, 67, 43], \n",
        "                   [91, 88, 64], \n",
        "                   [87, 134, 58], \n",
        "                   [102, 43, 37], \n",
        "                   [69, 96, 70]], dtype='float32')\n",
        "\n",
        "targets = np.array([[56, 70], \n",
        "                    [81, 101], \n",
        "                    [119, 133], \n",
        "                    [22, 37], \n",
        "                    [103, 119]], dtype='float32')\n",
        "\n",
        "inputs = torch.from_numpy(inputs)\n",
        "targets = torch.from_numpy(targets)\n",
        "batch_size = 5\n",
        "train_ds = TensorDataset(inputs, targets)\n",
        "train_dl = DataLoader(train_ds, batch_size, shuffle = True)\n",
        "for xb ,yb in train_dl:\n",
        "  print(xb, yb)\n",
        "  break\n",
        "\n"
      ],
      "execution_count": 0,
      "outputs": []
    },
    {
      "cell_type": "code",
      "metadata": {
        "id": "2AvOMhU5haUX",
        "colab_type": "code",
        "colab": {}
      },
      "source": [
        "\n",
        "model = nn.Linear(3, 2)\n",
        "loss_fn = F.mse_loss \n",
        "optimizer = torch.optim.SGD(model.parameters(), lr=1e-5)\n",
        "\n",
        "print(model(inputs), targets)\n",
        "model.weight, model.bias\n"
      ],
      "execution_count": 0,
      "outputs": []
    },
    {
      "cell_type": "code",
      "metadata": {
        "id": "Z90ZL7mehxK1",
        "colab_type": "code",
        "colab": {}
      },
      "source": [
        "def fit(epochs, model, loss_fn, optimizer, train_dl ):\n",
        "  for i in range(epochs):\n",
        "    for xb, yb in train_dl :\n",
        "      preds = model(xb)\n",
        "      loss = loss_fn(preds, yb)\n",
        "      loss.backward()\n",
        "      optimizer.step()\n",
        "      optimizer.zero_grad()\n",
        "\n",
        "      if( (i + 1) % 10 == 0 ):\n",
        "        print(\"epoch %d loss: \" % i, loss.item())\n"
      ],
      "execution_count": 0,
      "outputs": []
    },
    {
      "cell_type": "code",
      "metadata": {
        "id": "TXd4Xf7qkrJ5",
        "colab_type": "code",
        "colab": {}
      },
      "source": [
        "before = model(inputs)\n",
        "fit(100000, model, loss_fn, optimizer, train_dl)\n",
        "after = model(inputs)\n"
      ],
      "execution_count": 0,
      "outputs": []
    },
    {
      "cell_type": "code",
      "metadata": {
        "id": "fHXIpRnwlz7m",
        "colab_type": "code",
        "colab": {}
      },
      "source": [
        "print(before)\n",
        "print(after)\n",
        "print(targets)"
      ],
      "execution_count": 0,
      "outputs": []
    },
    {
      "cell_type": "code",
      "metadata": {
        "id": "877w-EQumY3q",
        "colab_type": "code",
        "colab": {}
      },
      "source": [
        "targets, model(inputs, w, b)"
      ],
      "execution_count": 0,
      "outputs": []
    },
    {
      "cell_type": "code",
      "metadata": {
        "id": "d09x6iEIoGis",
        "colab_type": "code",
        "colab": {}
      },
      "source": [
        ""
      ],
      "execution_count": 0,
      "outputs": []
    }
  ]
}