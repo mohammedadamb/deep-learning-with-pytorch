{
  "nbformat": 4,
  "nbformat_minor": 0,
  "metadata": {
    "colab": {
      "name": "00-pytorch-basics.ipynb",
      "provenance": [],
      "collapsed_sections": [],
      "authorship_tag": "ABX9TyOaZmpVM1HMOcMf6E2l+TwJ",
      "include_colab_link": true
    },
    "kernelspec": {
      "name": "python3",
      "display_name": "Python 3"
    }
  },
  "cells": [
    {
      "cell_type": "markdown",
      "metadata": {
        "id": "view-in-github",
        "colab_type": "text"
      },
      "source": [
        "<a href=\"https://colab.research.google.com/github/mohammedadamb/deep-learning-with-pytorch/blob/master/00_pytorch_basics.ipynb\" target=\"_parent\"><img src=\"https://colab.research.google.com/assets/colab-badge.svg\" alt=\"Open In Colab\"/></a>"
      ]
    },
    {
      "cell_type": "code",
      "metadata": {
        "id": "FEKzNpzOwH64",
        "colab_type": "code",
        "colab": {}
      },
      "source": [
        "#importing pytorch\n",
        "import torch"
      ],
      "execution_count": 0,
      "outputs": []
    },
    {
      "cell_type": "markdown",
      "metadata": {
        "id": "AAYexg4IEFcq",
        "colab_type": "text"
      },
      "source": [
        "# Tensor\n",
        "a tensor  is data structure that can reprecent a scalar, vector, or n-dimentional matrices, and has alot of usefull operations for machine learing and deep learning."
      ]
    },
    {
      "cell_type": "code",
      "metadata": {
        "id": "Bg468hJhwKxf",
        "colab_type": "code",
        "colab": {}
      },
      "source": [
        "\n",
        "t1 = torch.tensor(4.0)\n",
        "t1,t1.dtype"
      ],
      "execution_count": 0,
      "outputs": []
    },
    {
      "cell_type": "code",
      "metadata": {
        "id": "HpKECVp5ySWT",
        "colab_type": "code",
        "colab": {}
      },
      "source": [
        "t2 = torch.tensor([4,4,5,6,77,7], dtype=float)\n",
        "t2,t2.dtype, t2.shape\n"
      ],
      "execution_count": 0,
      "outputs": []
    },
    {
      "cell_type": "code",
      "metadata": {
        "id": "6h0IM_rqywn7",
        "colab_type": "code",
        "colab": {}
      },
      "source": [
        "t3 = torch.tensor([[45,65,43], [90,54,32]], dtype=torch.float64)\n",
        "# t3.dtype\n",
        "# print(t3.shape)\n",
        "t3, t3.dtype, t3.shape"
      ],
      "execution_count": 0,
      "outputs": []
    },
    {
      "cell_type": "markdown",
      "metadata": {
        "id": "HNlpm8_9J580",
        "colab_type": "text"
      },
      "source": [
        "# Tensor operations\n",
        "you can use the normal arithmatic operations on tensors, like addition, subtraction, and vectors and matrices operations."
      ]
    },
    {
      "cell_type": "code",
      "metadata": {
        "id": "tIRenBFPzWi9",
        "colab_type": "code",
        "outputId": "89fe692d-db7a-443b-9680-94bb92204424",
        "colab": {
          "base_uri": "https://localhost:8080/",
          "height": 34
        }
      },
      "source": [
        "x = torch.tensor(5.)\n",
        "w = torch.tensor(3., requires_grad=True)\n",
        "b = torch.tensor(2., requires_grad= True)\n",
        "\n",
        "y = w * x + b\n",
        "y"
      ],
      "execution_count": 0,
      "outputs": [
        {
          "output_type": "execute_result",
          "data": {
            "text/plain": [
              "tensor(17., grad_fn=<AddBackward0>)"
            ]
          },
          "metadata": {
            "tags": []
          },
          "execution_count": 14
        }
      ]
    },
    {
      "cell_type": "code",
      "metadata": {
        "id": "2BQOU3OkK0bU",
        "colab_type": "code",
        "outputId": "59ed3576-bafe-4b14-a2b9-636fe3181c0d",
        "colab": {
          "base_uri": "https://localhost:8080/",
          "height": 67
        }
      },
      "source": [
        "#compute derivative\n",
        "y.backward()\n",
        "print('dy/dx = ', x.grad)\n",
        "print('dy/dw = ', w.grad)\n",
        "print('dy/db = ', b.grad)"
      ],
      "execution_count": 0,
      "outputs": [
        {
          "output_type": "stream",
          "text": [
            "dy/dx =  None\n",
            "dy/dw =  tensor(5.)\n",
            "dy/db =  tensor(1.)\n"
          ],
          "name": "stdout"
        }
      ]
    },
    {
      "cell_type": "markdown",
      "metadata": {
        "id": "NlpQqM4DPNxB",
        "colab_type": "text"
      },
      "source": [
        "# interoperatability with numpy"
      ]
    },
    {
      "cell_type": "code",
      "metadata": {
        "id": "GS4mGfUFMVdS",
        "colab_type": "code",
        "outputId": "4ab80cde-28b8-4b29-f822-b0e3e554f4b7",
        "colab": {
          "base_uri": "https://localhost:8080/",
          "height": 50
        }
      },
      "source": [
        "!pip install jovian --upgrade --quiet"
      ],
      "execution_count": 0,
      "outputs": [
        {
          "output_type": "stream",
          "text": [
            "\u001b[?25l\r\u001b[K     |████                            | 10kB 23.9MB/s eta 0:00:01\r\u001b[K     |███████▉                        | 20kB 1.8MB/s eta 0:00:01\r\u001b[K     |███████████▉                    | 30kB 2.3MB/s eta 0:00:01\r\u001b[K     |███████████████▊                | 40kB 2.6MB/s eta 0:00:01\r\u001b[K     |███████████████████▋            | 51kB 2.0MB/s eta 0:00:01\r\u001b[K     |███████████████████████▋        | 61kB 2.3MB/s eta 0:00:01\r\u001b[K     |███████████████████████████▌    | 71kB 2.5MB/s eta 0:00:01\r\u001b[K     |███████████████████████████████▍| 81kB 2.8MB/s eta 0:00:01\r\u001b[K     |████████████████████████████████| 92kB 2.4MB/s \n",
            "\u001b[?25h  Building wheel for uuid (setup.py) ... \u001b[?25l\u001b[?25hdone\n"
          ],
          "name": "stdout"
        }
      ]
    },
    {
      "cell_type": "code",
      "metadata": {
        "id": "ccydjrJMPZEs",
        "colab_type": "code",
        "outputId": "00ee25c8-27d2-4666-9c19-a2c0faf1a953",
        "colab": {
          "base_uri": "https://localhost:8080/",
          "height": 34
        }
      },
      "source": [
        "import jovian\n",
        "jovian.commit()"
      ],
      "execution_count": 0,
      "outputs": [
        {
          "output_type": "stream",
          "text": [
            "\u001b[31m[jovian] Error: Failed to detect Jupyter notebook or Python script. Skipping..\u001b[0m\n"
          ],
          "name": "stderr"
        }
      ]
    },
    {
      "cell_type": "code",
      "metadata": {
        "id": "9B4QAuyXSylD",
        "colab_type": "code",
        "colab": {}
      },
      "source": [
        ""
      ],
      "execution_count": 0,
      "outputs": []
    }
  ]
}